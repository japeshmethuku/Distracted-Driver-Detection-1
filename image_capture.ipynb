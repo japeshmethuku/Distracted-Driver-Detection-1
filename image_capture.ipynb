import os
import cv2

# Open the camera connected at the ID 0
cap = cv2.VideoCapture(0)

#Check if the camera is opened successfully.
if not (cap.isOpened()):
    print("Could not open video device")

#Set the resolution
cap.set(cv2.CAP_PROP_FRAME_WIDTH, 640)
cap.set(cv2.CAP_PROP_FRAME_HEIGHT, 480)
#count = 0

while(True):
# Capture frame-by-frame
    ret, frame = cap.read()

# Display the captured frame
    cv2.namedWindow('preview', cv2.WINDOW_NORMAL)
    cv2.imshow('preview',frame)
    #cv2.imwrite(os.path.join("C:\\Users\\Admin\\Videos\\iVCam", "frame{:d}.jpg".format(count)), frame)
    cv2.imwrite(os.path.join("C:\\hack\\input\\", "input.jpg"), frame)
    #count += 1
    #display_result(frame, 'distracted')

#Waits for a user input to quit the application
    if cv2.waitKey(3000) & 0xFF == ord('q'):
        break

# When everything done, release the capture

cap.release()
cv2.destroyAllWindows()
